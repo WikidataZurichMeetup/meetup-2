{
 "cells": [
  {
   "cell_type": "markdown",
   "metadata": {},
   "source": [
    "# Accessing Wikidata with Python\n",
    "Leon Kastler<br/>\n",
    "September 5, 2018. Zurich, Switzerland."
   ]
  },
  {
   "cell_type": "markdown",
   "metadata": {},
   "source": [
    "In this session, we introduce two ways to access Wikidata, via its API and via [pywikibot](https://www.mediawiki.org/wiki/Manual:Pywikibot) a python library."
   ]
  },
  {
   "cell_type": "markdown",
   "metadata": {},
   "source": [
    "# Wikidata API\n",
    "We start with the [Wikidata API](https://www.wikidata.org/w/api.php), a HTTP-based API to search, retrieve, and manipulate entities in Wikidata.\n",
    "The URI where all API calls go to is https://www.wikidata.org/w/api.php.\n",
    "All requests are HTTPS calls, so we can use python's [requests](http://docs.python-requests.org) or any other HTTP/S library e.g. urllib2.\n",
    "The structure of an HTTP/S call or request is fairly simple: a _client_ sends a _request_ to a _server_ and receives an _response_ from it.\n",
    "There are different kinds of requests a client can make, but we use two of them here: _GET_ and _POST_.\n",
    "Simplified, the two types define how _parameters_, which give further information, are submitted and let the server know where to look for them.\n",
    "Both are not interchangable, a good rule of thumb is, that we use _GET_ for getting data and _POST_ for adding or manipulating data."
   ]
  },
  {
   "cell_type": "code",
   "execution_count": 11,
   "metadata": {
    "slideshow": {
     "slide_type": "slide"
    }
   },
   "outputs": [],
   "source": [
    "import requests\n",
    "\n",
    "API_URI = 'https://www.wikidata.org/w/api.php'"
   ]
  },
  {
   "cell_type": "markdown",
   "metadata": {},
   "source": [
    "## search entities\n",
    "What kind of operation we want the API to do is defined by so called _actions_, which is provided as the `action` parameter to the API.\n",
    "The first action, we use is called [`wbsearchentities`](https://www.wikidata.org/w/api.php?action=help&modules=wbsearchentities) which stands for \"wikibase entity search\", with Wikibase being the database behind Wikidata itself.\n",
    "It offers the same functionality as the search box of Wikidata, in fact, they use the same API action for it.\n",
    "You can see the complete action description [here](https://www.wikidata.org/w/api.php?action=help&modules=wbsearchentities).\n",
    "In general, it is useful to define the response format with the `format` parameter as `json`, so we ensure that we can handle the response easily.\n",
    "Let's do a search for entities with \"Zürich\" in German and see what we find:"
   ]
  },
  {
   "cell_type": "code",
   "execution_count": 12,
   "metadata": {
    "scrolled": true
   },
   "outputs": [
    {
     "name": "stdout",
     "output_type": "stream",
     "text": [
      "fields of a search hit: dict_keys(['repository', 'id', 'concepturi', 'title', 'pageid', 'url', 'label', 'description', 'match'])\n",
      "\n",
      "Q72: Zürich (capital of the canton of Zürich, Switzerland)\n",
      "Q11943: canton of Zürich (canton of Switzerland)\n",
      "Q660732: Zürich District \n",
      "Q30998: Zurich (region of Switzerland)\n",
      "Q19240447: Zürich \n",
      "Q33729618: Zürich (Wikimedia duplicated page)\n",
      "Q68165: Kloten (municipality in Switzerland)\n"
     ]
    }
   ],
   "source": [
    "search_parameters = {\n",
    "    'action': 'wbsearchentities',\n",
    "    'format': 'json',\n",
    "    'language': 'de',\n",
    "    'type': 'item',\n",
    "}\n",
    "\n",
    "search_parameters['search'] = 'Zürich'\n",
    "\n",
    "response = requests.get(API_URI, params=search_parameters)\n",
    "\n",
    "search_results = response.json()['search']\n",
    "\n",
    "print('fields of a search hit:', search_results[0].keys())\n",
    "\n",
    "print()\n",
    "\n",
    "for hit in search_results:\n",
    "    page_id = hit['id']\n",
    "    label = hit['label'] if 'label' in hit else ''\n",
    "    description = '(' + hit['description'] + ')' if 'description' in hit else ''\n",
    "    print(page_id + ': ' + label + ' ' + description)"
   ]
  },
  {
   "cell_type": "markdown",
   "metadata": {},
   "source": [
    "So what happended here?\n",
    "In line `1` to `6`, we defined the basic parameters for our search.\n",
    "We defined the `action`, defined the response format, defined that we want to search for a German word with the `language` parameter, and defined that we want to search for a [Wikidata item](https://www.mediawiki.org/wiki/Wikibase/API#Wikibase_and_Wikidata) with the `type` parameter.\n",
    "We then added the `search` parameter in line `8`.\n",
    "The actual API call is executed in line `10` with `requests.get`.\n",
    "As we can see here, this is a _GET_ request.\n",
    "In line `12` we parse the JSON response that contains, if successful, the search result.\n",
    "We print out the information contained by a search hit in line `14`.\n",
    "The interesting fields are:\n",
    "\n",
    "- `id`: the entity's Q-number\n",
    "- `concepturi`: the entity's URI to for dereferencing\n",
    "- `label` the entity's label in the requested language (if existing).\n",
    "- `description`: the entity's description in the requested language (if existing).\n",
    "\n",
    "From line `18` on, we iterate over the results and extract the item's Q-number, German label and description if it exists and print them out in line `23`."
   ]
  },
  {
   "cell_type": "markdown",
   "metadata": {},
   "source": [
    "## retrieve an entity\n",
    "Since the search itself does not retrieve a lot of information, we want more.\n",
    "The action [`wbgetentities`](https://www.wikidata.org/w/api.php?action=help&modules=wbgetentities) offers us to retrieve all information about an entity.\n",
    "Have a look at the following code:"
   ]
  },
  {
   "cell_type": "code",
   "execution_count": 13,
   "metadata": {},
   "outputs": [
    {
     "name": "stdout",
     "output_type": "stream",
     "text": [
      "Zurich's fields: dict_keys(['pageid', 'ns', 'title', 'lastrevid', 'modified', 'type', 'id', 'labels', 'descriptions', 'aliases', 'claims', 'sitelinks'])\n",
      "\n",
      "Zurich's Q-Number: Q72\n",
      "Zurich's French label: Zürich\n",
      "Zurich's French description: capital of the canton of Zürich, Switzerland\n",
      "Claims about Zurich:  dict_keys(['P1151', 'P31', 'P1036', 'P17', 'P131', 'P190', 'P30', 'P94', 'P373', 'P402', 'P242', 'P18', 'P281', 'P47', 'P421', 'P473', 'P625', 'P6', 'P771', 'P37', 'P856', 'P910', 'P948', 'P227', 'P244', 'P214', 'P998', 'P982', 'P646', 'P902', 'P268', 'P269', 'P41', 'P1464', 'P1465', 'P1566', 'P1456', 'P1740', 'P150', 'P1791', 'P1792', 'P1376', 'P166', 'P2046', 'P194', 'P935', 'P1296', 'P1997', 'P1417', 'P2044', 'P1281', 'P2959', 'P3222', 'P3417', 'P1448', 'P1842', 'P3984', 'P206', 'P1325', 'P2347', 'P1225', 'P3241', 'P2184', 'P2581', 'P4672', 'P1937', 'P361', 'P3219', 'P1705', 'P5019', 'P463', 'P1313', 'P571', 'P1889', 'P1082', 'P213', 'P5573', 'P949', 'P1435'])\n"
     ]
    }
   ],
   "source": [
    "response = requests.get(API_URI, params={\n",
    "    'action': 'wbgetentities',\n",
    "    'format': 'json',\n",
    "    'ids': 'Q72|P17'\n",
    "})\n",
    "\n",
    "# item: Zurich\n",
    "zurich = response.json()['entities']['Q72']\n",
    "\n",
    "print('Zurich\\'s fields:', zurich.keys())\n",
    "\n",
    "print()\n",
    "\n",
    "print('Zurich\\'s Q-Number:', zurich['title'])\n",
    "print('Zurich\\'s French label:', zurich['labels']['en']['value'])\n",
    "print('Zurich\\'s French description:', zurich['descriptions']['en']['value'])\n",
    "\n",
    "print('Claims about Zurich: ', zurich['claims'].keys())"
   ]
  },
  {
   "cell_type": "markdown",
   "metadata": {},
   "source": [
    "We reduced the requests call in line `1`, so that all parameters are filled in directly.\n",
    "Note that we can ask for multiple entities in with `ids` parameter by splitting them with the `|` character.\n",
    "In line `8` we extract the info for [_Q72_ (Zurich)](https://www.wikidata.org/wiki/Q72).\n",
    "We use the `keys()` function of the extracted information in line `10` to show what it offers.\n",
    "For us, the important onces are:\n",
    "\n",
    "- `title`: the id of the entity (Q-Numbers for items, P-Numbers for properties.\n",
    "- `labels`: all multi-langual labels for the entity\n",
    "- `descriptions`: all multi-langual descriptions for the entity\n",
    "- `claims`: claims made about the entity\n",
    "\n",
    "From line `14`on, we print the Q-Number, English label and description and the keys for claims made about Zurich."
   ]
  },
  {
   "cell_type": "markdown",
   "metadata": {},
   "source": [
    "We can do the same procedure now for the [property country](https://www.wikidata.org/wiki/Property:P17) since they can be accessed identically."
   ]
  },
  {
   "cell_type": "code",
   "execution_count": 14,
   "metadata": {},
   "outputs": [
    {
     "name": "stdout",
     "output_type": "stream",
     "text": [
      "property Country's P-Number: Property:P17\n",
      "property Country's French label: country\n",
      "property Country's French description: sovereign state of this item; don't use on humans\n",
      "Claims about property Country:  dict_keys(['P1659', 'P1629', 'P1647', 'P31', 'P2875', 'P1709', 'P1628', 'P3713', 'P3254', 'P2302', 'P1855', 'P3734', 'P3709'])\n"
     ]
    }
   ],
   "source": [
    "# property: country\n",
    "propery_country = response.json()['entities']['P17']\n",
    "\n",
    "print('property Country\\'s P-Number:', propery_country['title'])\n",
    "print('property Country\\'s French label:', propery_country['labels']['en']['value'])\n",
    "print('property Country\\'s French description:', propery_country['descriptions']['en']['value'])\n",
    "\n",
    "print('Claims about property Country: ', propery_country['claims'].keys())"
   ]
  },
  {
   "cell_type": "markdown",
   "metadata": {},
   "source": [
    "## retrieve preferred ranked claims for property \"instance of\" of entity \"Zurich\"\n",
    "For the following example, we retrieve specific claims directly without accessing the entity before.\n",
    "The action [`wbgetclaims`](https://www.wikidata.org/w/api.php?action=help&modules=wbgetclaims) allows us not only to retrieve the claims for a specific property for a specific entity but also other constraints like we only want preferred claims.\n",
    "Have a look at this example:"
   ]
  },
  {
   "cell_type": "code",
   "execution_count": 15,
   "metadata": {},
   "outputs": [
    {
     "name": "stdout",
     "output_type": "stream",
     "text": [
      "number of claims for Q72's P31: 6\n",
      "number of preferred claims for Q72's P31: 4\n"
     ]
    }
   ],
   "source": [
    "response = requests.get(API_URI, params={\n",
    "    'action': 'wbgetclaims',\n",
    "    'entity': 'Q72',\n",
    "    'format': 'json',\n",
    "    'property': 'P31',\n",
    "})\n",
    "claims_for_P31 = response.json()['claims']['P31']\n",
    "\n",
    "response = requests.get(API_URI, params={\n",
    "    'action': 'wbgetclaims',\n",
    "    'entity': 'Q72',\n",
    "    'format': 'json',\n",
    "    'property': 'P31',\n",
    "    'rank': 'preferred'\n",
    "})\n",
    "preferred_claims_for_P31 = response.json()['claims']['P31']\n",
    "\n",
    "print('number of claims for Q72\\'s P31:', len(claims_for_P31))\n",
    "print('number of preferred claims for Q72\\'s P31:', len(preferred_claims_for_P31))"
   ]
  },
  {
   "cell_type": "markdown",
   "metadata": {},
   "source": [
    "We will skip the explanation for the requests, since they look similar.\n",
    "We first retrieve all claims for [P31 (instance of)](https://www.wikidata.org/wiki/Property:P31) for [Q72 (Zurich)](https://www.wikidata.org/wiki/Q72) and then only the preferred.\n",
    "As we can see from the output of line `18` and `19`, there are 6 claims in total, but only 4 are regarded as preferred."
   ]
  },
  {
   "cell_type": "markdown",
   "metadata": {},
   "source": [
    "## wikibase add claim\n",
    "We now want to create a claim for an entity.\n",
    "For this example, we use the entity [`Q15397819`](https://www.wikidata.org/wiki/Q15397819), one of the so called sandbox entities.\n",
    "A general rule for creating scripts and software that manipulates Wikidata is, that one should be very careful what they do.\n",
    "If you are creating a program, always use either one of the sandbox entities or the [Wikidata sandbox](https://test.wikidata.org/wiki/Wikidata:Main_Page) itself.\n",
    "\n",
    "For the claim creation, we use the action [`wbcreateclaim`](https://www.wikidata.org/w/api.php?action=help&modules=wbcreateclaim). However, since this adds data to Wikidata, we need ad _token_ that identifies that we did the API call.\n",
    "To get the token, we have a three step authentification to do."
   ]
  },
  {
   "cell_type": "markdown",
   "metadata": {},
   "source": [
    "### create a session and retrieve a login token\n",
    "First step ist to create a so called _session_.\n",
    "Under normal conditions, all our API calls are not related to each other, but since the authentification has multiple steps, we need to connect them.\n",
    "This is what the session is for.\n",
    "The first action we need is `query` that allows us to request a so called _login_token_ that allows us to log in.\n",
    "the following code requests this token and stores it in a variable."
   ]
  },
  {
   "cell_type": "code",
   "execution_count": 16,
   "metadata": {},
   "outputs": [
    {
     "name": "stdout",
     "output_type": "stream",
     "text": [
      "retrieved login token: 4aae7167ad3a5277c70dddd9a2100b4e5b901238+\\\n"
     ]
    }
   ],
   "source": [
    "# create session\n",
    "session = requests.Session()\n",
    "# retrieve login token\n",
    "response = session.get(API_URI, params={\n",
    "    'action': 'query',\n",
    "    'format': 'json',\n",
    "    'meta': 'tokens',\n",
    "    'type': 'login',\n",
    "})\n",
    "token = response.json()['query']['tokens']['logintoken']\n",
    "print('retrieved login token:', token)"
   ]
  },
  {
   "cell_type": "markdown",
   "metadata": {},
   "source": [
    "Next, we need to do the actual login with our new token.\n",
    "It is in general not recommended to use your normal login password, but so called [bot passwords](https://www.mediawiki.org/wiki/Manual:Bot_passwords) instead.\n",
    "These passwords are like a different user account where you can set different access rights.\n",
    "Once you don't need that bot password anymore, you can remove it.\n",
    "To create a bot password in Wikidata, use [this link](https://www.mediawiki.org/wiki/Special:BotPasswords).\n",
    "Once the bot password has been created, we can use the `login` action to log in."
   ]
  },
  {
   "cell_type": "code",
   "execution_count": 17,
   "metadata": {},
   "outputs": [
    {
     "name": "stdout",
     "output_type": "stream",
     "text": [
      "login: Success\n"
     ]
    }
   ],
   "source": [
    "# log in\n",
    "response = session.post(API_URI, data={\n",
    "    'action': 'login',\n",
    "    'lgname': 'Lkastler@wikidata_zurich',\n",
    "    'lgpassword': '7343er7i5aspf9182s13mp70j8b9tjj3',\n",
    "    'lgtoken': token,\n",
    "    'format': 'json'\n",
    "})\n",
    "\n",
    "print('login:', response.json()['login']['result'])"
   ]
  },
  {
   "cell_type": "markdown",
   "metadata": {},
   "source": [
    "Great!\n",
    "Next, we retrieve another token with the `query` action but this time without the `type` parameter (see how we retrieved a login token)."
   ]
  },
  {
   "cell_type": "code",
   "execution_count": 18,
   "metadata": {},
   "outputs": [
    {
     "name": "stdout",
     "output_type": "stream",
     "text": [
      "working token: 28874f5c55402bbe69d60754fe625bac5b90123b+\\\n"
     ]
    }
   ],
   "source": [
    "# retrieve actual token\n",
    "response = session.get(API_URI, params={\n",
    "    'action': 'query',\n",
    "    'format': 'json',\n",
    "    'meta': 'tokens',\n",
    "})\n",
    "token = response.json()['query']['tokens']['csrftoken']\n",
    "\n",
    "print('working token:', token)"
   ]
  },
  {
   "cell_type": "markdown",
   "metadata": {},
   "source": [
    "Ok, so we now have a token that we can use for all following requests within this session.\n",
    "We now create a claim with the [`wbcreateclaim`](https://www.wikidata.org/w/api.php?action=help&modules=wbcreateclaim) action, where we set for the [sandbox item](https://www.wikidata.org/wiki/Q15397819) `Q15397819` the property [`P103`](https://www.wikidata.org/wiki/Property:P103)(native language) to [`Q188`](https://www.wikidata.org/wiki/Q188) (German)."
   ]
  },
  {
   "cell_type": "code",
   "execution_count": 19,
   "metadata": {},
   "outputs": [
    {
     "name": "stdout",
     "output_type": "stream",
     "text": [
      "{'pageinfo': {'lastrevid': 740694614}, 'success': 1, 'claim': {'mainsnak': {'snaktype': 'value', 'property': 'P103', 'hash': 'eeedb26365d535268f5dc9d92a5fafddba00d858', 'datavalue': {'value': {'entity-type': 'item', 'numeric-id': 188, 'id': 'Q188'}, 'type': 'wikibase-entityid'}, 'datatype': 'wikibase-item'}, 'type': 'statement', 'id': 'Q15397819$98266984-2CCB-40DF-B00F-D8EA56CE1E8A', 'rank': 'normal'}}\n"
     ]
    }
   ],
   "source": [
    "# create claim\n",
    "response = session.post(API_URI, data={\n",
    "    'action': 'wbcreateclaim',\n",
    "    'entity': 'Q15397819',\n",
    "    'format': 'json',\n",
    "    'property': 'P103',\n",
    "    'snaktype': 'value',\n",
    "    'summary': 'add claim to sandbox',\n",
    "    'token': token,\n",
    "    'value': '{\"entity-type\":\"item\",\"id\":\"Q188\"}',\n",
    "})\n",
    "\n",
    "print(response.json())"
   ]
  },
  {
   "cell_type": "markdown",
   "metadata": {},
   "source": [
    "This action has multiple important parameters:\n",
    "\n",
    "1. We need to define the `snaktype` of which there are three: `novalue`, `value`, and `somevalue`:\n",
    "  - `novalue` defines that we do not give a value for the claim.\n",
    "  - `value` defines that we do give exactly one value for the claim.\n",
    "  - `somevalue` defines that we give multiple values for the claim.\n",
    "2. We need to provide our working token via the `token` parameter.\n",
    "3. We should add a commit summary to express what we wanted to do via the `summary` parameter. This will be shown in the item's history."
   ]
  },
  {
   "cell_type": "markdown",
   "metadata": {},
   "source": [
    "## Using pywikibot\n",
    "As seen in the last example, using the HTTP/S API can be complicated and error-prone.\n",
    "We also ignored some API usage ettiquette, like [obeying to maxlag](https://www.mediawiki.org/wiki/Manual:Maxlag_parameter) and so on.\n",
    "[Pywikibot](https://www.mediawiki.org/wiki/Manual:Pywikibot/Wikidata) is a python library that offers a quality of life improvement here.\n",
    "The usage is similar to API calls, especially when it comes to what we retrieve.\n",
    "You need to configure your user in the `user-config.py` file (see https://www.mediawiki.org/wiki/Manual:Pywikibot/Wikidata).\n",
    "When using [PAWS](https://paws.wmflabs.org), you can create a text file just right in the root folder."
   ]
  },
  {
   "cell_type": "code",
   "execution_count": 20,
   "metadata": {},
   "outputs": [],
   "source": [
    "import pywikibot\n",
    "\n",
    "site = pywikibot.Site('wikidata', 'wikidata')\n",
    "repo = site.data_repository()"
   ]
  },
  {
   "cell_type": "markdown",
   "metadata": {},
   "source": [
    "we first need to import the module itself.\n",
    "After that, we define which _site_ we want to use. pywikibot supports all Wikimedia wikis, like Wikipedia or Wikicommons, but we want to use Wikidata, of course.\n",
    "The second parameter of `pywikibot.Site` defines the \"language\" to use for normal wikis. Wikidata has no differnt language, but you can set the parameter to `test` in order to access the sandbox."
   ]
  },
  {
   "cell_type": "code",
   "execution_count": 21,
   "metadata": {
    "scrolled": true
   },
   "outputs": [
    {
     "name": "stdout",
     "output_type": "stream",
     "text": [
      "Zürich\n",
      "capital of the canton of Zürich, Switzerland\n",
      "dict_keys(['P1151', 'P31', 'P1036', 'P17', 'P131', 'P190', 'P30', 'P94', 'P373', 'P402', 'P242', 'P18', 'P281', 'P47', 'P421', 'P473', 'P625', 'P6', 'P771', 'P37', 'P856', 'P910', 'P948', 'P227', 'P244', 'P214', 'P998', 'P982', 'P646', 'P902', 'P268', 'P269', 'P41', 'P1464', 'P1465', 'P1566', 'P1456', 'P1740', 'P150', 'P1791', 'P1792', 'P1376', 'P166', 'P2046', 'P194', 'P935', 'P1296', 'P1997', 'P1417', 'P2044', 'P1281', 'P2959', 'P3222', 'P3417', 'P1448', 'P1842', 'P3984', 'P206', 'P1325', 'P2347', 'P1225', 'P3241', 'P2184', 'P2581', 'P4672', 'P1937', 'P361', 'P3219', 'P1705', 'P5019', 'P463', 'P1313', 'P571', 'P1889', 'P1082', 'P213', 'P5573', 'P949', 'P1435'])\n"
     ]
    }
   ],
   "source": [
    "zurich = pywikibot.ItemPage(repo, 'Q72')\n",
    "zurich_item = zurich.get()\n",
    "\n",
    "print(zurich_item['labels']['en'])\n",
    "print(zurich_item['descriptions']['en'])\n",
    "\n",
    "zurich_claims = zurich_item['claims']\n",
    "print(zurich_claims.keys())"
   ]
  },
  {
   "cell_type": "markdown",
   "metadata": {},
   "source": [
    "To retieve an item, we use `pywikibot.ItemPage` and need to call `get` afterwards.\n",
    "The rest is identical to the API."
   ]
  },
  {
   "cell_type": "code",
   "execution_count": 22,
   "metadata": {},
   "outputs": [
    {
     "name": "stderr",
     "output_type": "stream",
     "text": [
      "Sleeping for 19.5 seconds, 2018-09-05 17:29:02\n",
      "Sleeping for 19.4 seconds, 2018-09-05 17:29:22\n"
     ]
    }
   ],
   "source": [
    "sandbox = pywikibot.ItemPage(repo, 'Q15397819')\n",
    "# change German label\n",
    "sandbox.editLabels(labels={'de': 'Hallo Welt'}, summary=u'edit label for sandbox item')\n",
    "\n",
    "# add claim that Sandbox 3's color is black with reference \"retrieved\" on March 20th 2014\n",
    "property_color = 'P462'\n",
    "color_black = pywikibot.ItemPage(repo, 'Q23445')\n",
    "\n",
    "black_color_claim = pywikibot.Claim(repo, property_color)\n",
    "black_color_claim.setTarget(color_black)\n",
    "\n",
    "sandbox.addClaim(black_color_claim, summary=u'add black color claim')\n",
    "\n",
    "# prepare retrieved reference\n",
    "retrieved = pywikibot.Claim(repo, 'P813')\n",
    "date = pywikibot.WbTime(year=2014, month=3, day=20)\n",
    "retrieved.setTarget(date)\n",
    "\n",
    "# add reference to claim\n",
    "black_color_claim.addSources([retrieved], summary='added source to claim')"
   ]
  },
  {
   "cell_type": "markdown",
   "metadata": {},
   "source": [
    "You can see in the history of Q15397819 the changes we made: https://www.wikidata.org/w/index.php?title=Q15397819&action=history\n",
    "\n",
    "For adding qualifiers and other use cases, have a look at the [Wikidata:Creating a bot](https://www.wikidata.org/wiki/Wikidata:Creating_a_bot) page."
   ]
  },
  {
   "cell_type": "markdown",
   "metadata": {},
   "source": [
    "## References\n",
    "- [Wikidata - Data Access](https://www.wikidata.org/wiki/Wikidata:Data_access)\n",
    "- [Wikidata API Help](https://www.wikidata.org/w/api.php?action=help)\n",
    "- [Wikibase and Wikidata](https://www.mediawiki.org/wiki/Wikibase/API)\n",
    "- [Wikidata Glossary](https://www.wikidata.org/wiki/Wikidata:Glossary)\n",
    "\n",
    "- [Pywikibot Documentation](https://doc.wikimedia.org/pywikibot/master/)\n",
    "- [Extended documentation for using pywikibot in Wikidata](https://www.wikidata.org/wiki/Wikidata:Creating_a_bot)\n",
    "- [Wikidata Pywikibot Tutorial for python 3](https://www.wikidata.org/wiki/Wikidata:Pywikibot_-_Python_3_Tutorial)\n",
    "- [Python Requests](http://docs.python-requests.org/en/master/user/quickstart/#make-a-request)"
   ]
  },
  {
   "cell_type": "markdown",
   "metadata": {},
   "source": [
    "<a rel=\"license\" href=\"http://creativecommons.org/licenses/by/4.0/\"><img alt=\"Creative Commons License\" style=\"border-width:0\" src=\"https://i.creativecommons.org/l/by/4.0/88x31.png\" /></a><br />This work is licensed under a <a rel=\"license\" href=\"http://creativecommons.org/licenses/by/4.0/\">Creative Commons Attribution 4.0 International License</a>."
   ]
  }
 ],
 "metadata": {
  "kernelspec": {
   "display_name": "Python 3",
   "language": "python",
   "name": "python3"
  },
  "language_info": {
   "codemirror_mode": {
    "name": "ipython",
    "version": 3
   },
   "file_extension": ".py",
   "mimetype": "text/x-python",
   "name": "python",
   "nbconvert_exporter": "python",
   "pygments_lexer": "ipython3",
   "version": "3.6.3"
  }
 },
 "nbformat": 4,
 "nbformat_minor": 2
}
